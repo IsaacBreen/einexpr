{
 "cells": [
  {
   "cell_type": "code",
   "execution_count": 55,
   "metadata": {},
   "outputs": [],
   "source": [
    "import numpy as np\n",
    "from einexpr import einexpr, einfunc"
   ]
  },
  {
   "cell_type": "code",
   "execution_count": 2,
   "metadata": {},
   "outputs": [
    {
     "name": "stdout",
     "output_type": "stream",
     "text": [
      "10[]\n",
      "array([[3, 4],\n",
      "       [6, 8]])['i', 'j']\n",
      "array([ 5, 11])['i']\n",
      "array([[19, 22],\n",
      "       [43, 50]])['i', 'k']\n",
      "array([17, 22])['j']\n"
     ]
    }
   ],
   "source": [
    "X = einexpr(np.array([[1, 2], [3, 4]]))\n",
    "Y = einexpr(np.array([[5, 6], [7, 8]]))\n",
    "a = einexpr(np.array([1,2]))\n",
    "b = einexpr(np.array([3,4]))\n",
    "\n",
    "# Dot product\n",
    "x = a['i'] + b['i']\n",
    "print(x[''])\n",
    "\n",
    "# Outer product\n",
    "x = a['i'] * b['j']\n",
    "print(x['i j'])\n",
    "\n",
    "# Matrix-vector multiplication\n",
    "x = X['i j'] * a['j']\n",
    "print(x['i'])\n",
    "\n",
    "# Matrix-matrix multiplication\n",
    "x = X['i j'] * Y['j k']\n",
    "print(x['i, k'])\n",
    "\n",
    "# Linear transformation\n",
    "@einfunc\n",
    "def linear(x, W, b):\n",
    "    return x['i'] * W['i j'] + b['j']\n",
    "\n",
    "x_transformed = linear(x=np.array([1,2]), W=np.array([[1,2],[3,4]]), b=np.array([5,6]))\n",
    "print(x_transformed['j'])"
   ]
  },
  {
   "cell_type": "code",
   "execution_count": 3,
   "metadata": {},
   "outputs": [
    {
     "data": {
      "text/plain": [
       "array([[1., 1., 1., 1., 1., 1., 1., 1., 1., 1.],\n",
       "       [1., 1., 1., 1., 1., 1., 1., 1., 1., 1.],\n",
       "       [1., 1., 1., 1., 1., 1., 1., 1., 1., 1.],\n",
       "       [1., 1., 1., 1., 1., 1., 1., 1., 1., 1.],\n",
       "       [1., 1., 1., 1., 1., 1., 1., 1., 1., 1.],\n",
       "       [1., 1., 1., 1., 1., 1., 1., 1., 1., 1.],\n",
       "       [1., 1., 1., 1., 1., 1., 1., 1., 1., 1.],\n",
       "       [1., 1., 1., 1., 1., 1., 1., 1., 1., 1.],\n",
       "       [1., 1., 1., 1., 1., 1., 1., 1., 1., 1.],\n",
       "       [1., 1., 1., 1., 1., 1., 1., 1., 1., 1.]], dtype=float32)"
      ]
     },
     "execution_count": 3,
     "metadata": {},
     "output_type": "execute_result"
    }
   ],
   "source": [
    "import jax.numpy as jnp\n",
    "\n",
    "jnp.ones((10,10)).__array__()"
   ]
  },
  {
   "cell_type": "code",
   "execution_count": 4,
   "metadata": {},
   "outputs": [
    {
     "data": {
      "text/plain": [
       "array(4652007308841189376)"
      ]
     },
     "execution_count": 4,
     "metadata": {},
     "output_type": "execute_result"
    }
   ],
   "source": [
    "np.ndarray((), np.int64)"
   ]
  },
  {
   "cell_type": "code",
   "execution_count": 54,
   "metadata": {},
   "outputs": [
    {
     "name": "stdout",
     "output_type": "stream",
     "text": [
      "[[19 22]\n",
      " [43 50]]\n",
      "array([[19, 22],\n",
      "       [43, 50]])['i', 'k']\n",
      "[[15 17]\n",
      " [19 21]]\n",
      "array([[15, 17],\n",
      "       [19, 21]])['i', 'k']\n",
      "[10 14]\n",
      "array([13, 18])['j']\n",
      "__add__(Shaped(EinSum('i,ij->', [Shaped(array([1, 2]), (Index('i'),)), Shaped(array([[1, 2],\n",
      "       [3, 4]]), (Index('i'), Index('j')))]), ()), Shaped(EinSum('j,->', [Shaped(array([3, 4]), (Index('j'),)), IndexSize(i)]), ()))[]\n"
     ]
    }
   ],
   "source": [
    "X = np.array([[1, 2], [3, 4]])\n",
    "Y = np.array([[5, 6], [7, 8]])\n",
    "a = np.array([1,2])\n",
    "b = np.array([3,4])\n",
    "\n",
    "Xe = einexpr(X)\n",
    "Ye = einexpr(Y)\n",
    "ae = einexpr(a)\n",
    "be = einexpr(b)\n",
    "\n",
    "# MULTIPLICATION\n",
    "# np.einsum\n",
    "print(np.einsum('ij,jk->ik', X, Y))\n",
    "\n",
    "# the same thing in einexpr\n",
    "print((Xe['i j'] * Ye['j k'])['i k'])\n",
    "\n",
    "# ADDITION\n",
    "# np.einsum\n",
    "print(np.sum(X[:, :, np.newaxis] + Y[np.newaxis, :, :], axis=1))\n",
    "\n",
    "# einexpr\n",
    "print((Xe['i j'] + Ye['j k'])['i k'])\n",
    "\n",
    "# LINEAR TRANSFORMATION\n",
    "def linear(x, W, b):\n",
    "    return np.einsum(\"i,ij->j\", x, W) + b\n",
    "\n",
    "print(linear(a, X, b))\n",
    "\n",
    "@einfunc\n",
    "def linear(x, W, b):\n",
    "    return x['i'] * W['i j'] + b['j']\n",
    "\n",
    "print(linear(a, X, b)['j'])\n",
    "\n",
    "print((ae['i'] * Xe['i j'] + be['j']).coerce_into_shape('j'))"
   ]
  },
  {
   "cell_type": "code",
   "execution_count": 6,
   "metadata": {},
   "outputs": [
    {
     "data": {
      "text/plain": [
       "ndarray([[1 2]\n",
       " [3 4]], int64)"
      ]
     },
     "execution_count": 6,
     "metadata": {},
     "output_type": "execute_result"
    }
   ],
   "source": [
    "einexpr(np.array(einexpr(X)))"
   ]
  },
  {
   "cell_type": "code",
   "execution_count": 7,
   "metadata": {},
   "outputs": [
    {
     "data": {
      "text/plain": [
       "ndarray([[1 2]\n",
       " [3 4]], int64)"
      ]
     },
     "execution_count": 7,
     "metadata": {},
     "output_type": "execute_result"
    }
   ],
   "source": [
    "einexpr(X)"
   ]
  },
  {
   "cell_type": "code",
   "execution_count": 65,
   "metadata": {},
   "outputs": [],
   "source": [
    "import einexpr"
   ]
  },
  {
   "cell_type": "code",
   "execution_count": null,
   "metadata": {},
   "outputs": [],
   "source": []
  }
 ],
 "metadata": {
  "kernelspec": {
   "display_name": "Python 3.9.7 ('py39')",
   "language": "python",
   "name": "python3"
  },
  "language_info": {
   "codemirror_mode": {
    "name": "ipython",
    "version": 3
   },
   "file_extension": ".py",
   "mimetype": "text/x-python",
   "name": "python",
   "nbconvert_exporter": "python",
   "pygments_lexer": "ipython3",
   "version": "3.9.7"
  },
  "orig_nbformat": 4,
  "vscode": {
   "interpreter": {
    "hash": "a4e86c934b375bdfbcaa1924885d620a34ad2919c9a02314b4bebd1564549087"
   }
  }
 },
 "nbformat": 4,
 "nbformat_minor": 2
}
