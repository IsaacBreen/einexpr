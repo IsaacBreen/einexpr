{
 "cells": [
  {
   "cell_type": "code",
   "execution_count": 1,
   "metadata": {},
   "outputs": [
    {
     "name": "stderr",
     "output_type": "stream",
     "text": [
      "/Users/isaacbreen/miniforge3/envs/py39/lib/python3.9/site-packages/jax/_src/lib/__init__.py:34: UserWarning: JAX on Mac ARM machines is experimental and minimally tested. Please see https://github.com/google/jax/issues/5501 in the event of problems.\n",
      "  warnings.warn(\"JAX on Mac ARM machines is experimental and minimally tested. \"\n"
     ]
    }
   ],
   "source": [
    "import numpy as np\n",
    "from einexpr import einexpr, einfunc"
   ]
  },
  {
   "cell_type": "code",
   "execution_count": 3,
   "metadata": {},
   "outputs": [
    {
     "name": "stdout",
     "output_type": "stream",
     "text": [
      "ndarray((), int64)[]\n",
      "ndarray((2, 2), int64)['i', 'j']\n",
      "ndarray((2,), int64)['i']\n",
      "ndarray((2, 2), int64)['i', 'k']\n",
      "ndarray((2, 2), int64)\n",
      "ndarray((2,), int64)['j']\n"
     ]
    }
   ],
   "source": [
    "X = einexpr(np.array([[1, 2], [3, 4]]))\n",
    "Y = einexpr(np.array([[5, 6], [7, 8]]))\n",
    "a = einexpr(np.array([1,2]))\n",
    "b = einexpr(np.array([3,4]))\n",
    "\n",
    "# Dot product\n",
    "x = a['i'] + b['i']\n",
    "print(x[''])\n",
    "\n",
    "# Outer product\n",
    "x = a['i'] * b['j']\n",
    "print(x['i j'])\n",
    "\n",
    "# Matrix-vector multiplication\n",
    "x = X['i j'] * a['j']\n",
    "print(x['i'])\n",
    "\n",
    "# Matrix-matrix multiplication\n",
    "x = X['i j'] * Y['j k']\n",
    "print(x['i, k'])\n",
    "\n",
    "# Linear transformation\n",
    "@einfunc\n",
    "def linear(x, W, b):\n",
    "    print(W)\n",
    "    return x['i'] * W['i j'] + b['j']\n",
    "\n",
    "x_transformed = linear(x=np.array([1,2]), W=np.array([[1,2],[3,4]]), b=np.array([5,6]))\n",
    "print(x_transformed['j'])"
   ]
  },
  {
   "cell_type": "code",
   "execution_count": null,
   "metadata": {},
   "outputs": [
    {
     "data": {
      "text/plain": [
       "numpy.ndarray"
      ]
     },
     "execution_count": 10,
     "metadata": {},
     "output_type": "execute_result"
    }
   ],
   "source": [
    "import jax.numpy as jnp\n",
    "\n",
    "jnp.ones((10,10)).__array__()"
   ]
  },
  {
   "cell_type": "code",
   "execution_count": 4,
   "metadata": {},
   "outputs": [
    {
     "data": {
      "text/plain": [
       "array(2)"
      ]
     },
     "execution_count": 4,
     "metadata": {},
     "output_type": "execute_result"
    }
   ],
   "source": [
    "np.ndarray((), np.int64)"
   ]
  },
  {
   "cell_type": "code",
   "execution_count": null,
   "metadata": {},
   "outputs": [],
   "source": []
  }
 ],
 "metadata": {
  "kernelspec": {
   "display_name": "Python 3.9.7 ('py39')",
   "language": "python",
   "name": "python3"
  },
  "language_info": {
   "codemirror_mode": {
    "name": "ipython",
    "version": 3
   },
   "file_extension": ".py",
   "mimetype": "text/x-python",
   "name": "python",
   "nbconvert_exporter": "python",
   "pygments_lexer": "ipython3",
   "version": "3.9.7"
  },
  "orig_nbformat": 4,
  "vscode": {
   "interpreter": {
    "hash": "a4e86c934b375bdfbcaa1924885d620a34ad2919c9a02314b4bebd1564549087"
   }
  }
 },
 "nbformat": 4,
 "nbformat_minor": 2
}
